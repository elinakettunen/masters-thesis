{
 "cells": [
  {
   "cell_type": "code",
   "execution_count": null,
   "metadata": {},
   "outputs": [],
   "source": [
    "#imports of libraries fixed to the version available at time of research\n",
    "import pkg_resources\n",
    "\n",
    "pkg_resources.require(\"matplotlib==3.3.1\")\n",
    "import matplotlib.pyplot as plt\n",
    "\n",
    "pkg_resources.require(\"seaborn==0.11.0\")\n",
    "import seaborn as sns\n",
    "\n",
    "pkg_resources.require(\"pandas==1.1.1\")\n",
    "import pandas as pd\n",
    "\n",
    "pkg_resources.require(\"numpy==1.19.1\")\n",
    "import numpy as np\n",
    "\n",
    "pkg_resources.require(\"scipy==1.5.2\")\n",
    "from scipy.stats import pearsonr\n",
    "\n",
    "pkg_resources.require(\"statsmodels==0.11.1\")\n",
    "from statsmodels.stats.multitest import multipletests\n",
    "import statsmodels.api as sm"
   ]
  },
  {
   "cell_type": "code",
   "execution_count": null,
   "metadata": {},
   "outputs": [],
   "source": [
    "# data files are exactly as received from MIRA Helsinki Study. This code does not write to these files.\n",
    "data_lab = 'data/HUSLAB Data final_WithMixedVegans.txt'\n",
    "data_intakes = 'data/muuttujat_analyysiin.txt'\n",
    "data_thl = 'data/growth-curves.tsv'\n",
    "data_questionnaire = 'data/data huoltajan tausta 171106.sav'\n",
    "data_food_record = 'data/radata.txt'"
   ]
  },
  {
   "cell_type": "code",
   "execution_count": null,
   "metadata": {},
   "outputs": [],
   "source": [
    "# animal proportion per food item collected for this thesis, method and sources on page 39 of thesis\n",
    "data_food_animal_proportion = 'data/food-animal-proportion.csv'"
   ]
  },
  {
   "cell_type": "code",
   "execution_count": null,
   "metadata": {},
   "outputs": [],
   "source": [
    "# global settings for graph output\n",
    "\n",
    "scale=10\n",
    "sns.set_theme(style='white',font_scale=2)"
   ]
  },
  {
   "cell_type": "code",
   "execution_count": null,
   "metadata": {},
   "outputs": [],
   "source": [
    "# clean output directory every time\n",
    "import shutil\n",
    "shutil.rmtree('out')\n",
    "\n",
    "from pathlib import Path\n",
    "Path('out').mkdir(parents=True, exist_ok=True)"
   ]
  },
  {
   "cell_type": "markdown",
   "metadata": {},
   "source": [
    "# Methods\n",
    "## Design and participants\n",
    "Figure 1\n",
    "The participant flow in the original MIRA Helsinki Study in 2017 and in the present thesis. Dietary classification done based on the food record and the FFQ data. Two participants originally omitted due to difficulties to classify are included in the present study as omnivores."
   ]
  },
  {
   "cell_type": "markdown",
   "metadata": {},
   "source": [
    "# Results"
   ]
  },
  {
   "cell_type": "code",
   "execution_count": null,
   "metadata": {},
   "outputs": [],
   "source": [
    "#declare common column names as variables\n",
    "ldl = 'fP-Kol-LDL (mmol/l)'\n",
    "tc = 'fP-Kol (mmol/l)'\n",
    "serum_lipids = [\n",
    "    tc,\n",
    "    ldl, \n",
    "    'fP-Kol-HDL (mmol/l)', \n",
    "    'fP-Trigly (mmol/l)'\n",
    "]"
   ]
  },
  {
   "cell_type": "code",
   "execution_count": null,
   "metadata": {},
   "outputs": [],
   "source": [
    "# read in mira study data\n",
    "\n",
    "lab_results = pd.read_csv(data_lab, sep='\\t', decimal=\",\")\n",
    "intakes = pd.read_csv(data_intakes, sep='\\t')\n",
    "\n",
    "df = lab_results.merge(intakes, on='ID')\n",
    "\n",
    "# Only select subjects for whom we have an LDL lab result \n",
    "subjects = df[df[ldl].notna()]"
   ]
  },
  {
   "cell_type": "code",
   "execution_count": null,
   "metadata": {},
   "outputs": [],
   "source": [
    "# Read in THL curves on finnish children\n",
    "\n",
    "curves = pd.read_csv(data_thl,sep='\\t',decimal=',')\n",
    "curves.columns = [c.lower() for c in curves.columns]\n",
    "\n",
    "# no curve for children under two, fill in with a linear extrapolation\n",
    "\n",
    "def fill_start_with_linear_extrapolation(s):\n",
    "    i = s.first_valid_index()\n",
    "    x1 = s.loc[i]\n",
    "    x2 = s.loc[2*i]\n",
    "    x0 = x1 - (x2-x1)\n",
    "    return pd.Series(np.linspace(x0,x1,i)).append(s[i:])\n",
    "\n",
    "\n",
    "for c in 'bmi_mean_m','bmi_sd_m','bmi_nu_m','bmi_mean_f','bmi_sd_f','bmi_nu_f':\n",
    "    s = curves[c]\n",
    "    s2 = fill_start_with_linear_extrapolation(s)\n",
    "    curves.insert(\n",
    "        curves.columns.get_loc(c)+1,\n",
    "        c+'_filled',\n",
    "        s2\n",
    "    )\n",
    "\n",
    "# BMISDS = ((BMIlaskettu / muBMI) ^ nuBMI – 1) / (nuBMI × sigmaBMI)\n",
    "def translate_sex(s):\n",
    "    if s in ('M','m'): return 'm'\n",
    "    if s in ('N','n','F','f'): return 'f'\n",
    "    return None\n",
    "\n",
    "def bmi_sds(weight,height,age,sex):\n",
    "    age = round(age,2)\n",
    "    sex = translate_sex(sex)\n",
    "\n",
    "    bmi = weight/height**2\n",
    "    \n",
    "    row = curves[curves.age==age].iloc[0]\n",
    "    mu_bmi = row['bmi_mean_'+sex+'_filled']\n",
    "    nu_bmi = row['bmi_nu_'+sex+'_filled']\n",
    "    sigma_bmi = row['bmi_sd_'+sex+'_filled']\n",
    "    \n",
    "    bmi_sds = ((bmi/mu_bmi)**nu_bmi - 1) / (nu_bmi * sigma_bmi)\n",
    "    \n",
    "    return bmi_sds\n",
    "\n",
    "if not 'bmi_sds' in subjects:\n",
    "    bmi_sds = subjects.apply(\n",
    "        lambda row: bmi_sds(\n",
    "            row.Weight,\n",
    "            row.Height/100,\n",
    "            row.Bage,\n",
    "            row.Sex\n",
    "        ),\n",
    "        axis=1\n",
    "    )\n",
    "    subjects.insert(12,'bmi_sds',bmi_sds)\n",
    "    \n",
    "def is_female(s):\n",
    "    return s in ('N','n','F','f')\n",
    "\n",
    "def is_male(s):\n",
    "    return s in ('M','m')\n",
    "\n",
    "def classify_bmi_sds(bmi_sds,sex):\n",
    "    if is_female(sex):\n",
    "        if bmi_sds < -2.2187: return 'Significantly underweight'\n",
    "        if bmi_sds < -1.6482: return 'Underweight'\n",
    "        if bmi_sds > 2.7600: return 'Severely Obese'\n",
    "        if bmi_sds > 2.1065: return 'Obese'\n",
    "        if bmi_sds > 1.1629: return 'Overweight'\n",
    "        return 'Normal'\n",
    "    if is_male(sex):\n",
    "        if bmi_sds < -2.3456: return 'Significantly underweight'\n",
    "        if bmi_sds < -1.8344: return 'Underweight'\n",
    "        if bmi_sds > 2.3600: return 'Severely Obese'\n",
    "        if bmi_sds > 1.7016: return 'Obese'\n",
    "        if bmi_sds > 0.7784: return 'Overweight'\n",
    "        return 'Normal'\n",
    "    return None\n",
    "\n",
    "if not 'bmi_class' in subjects:\n",
    "    bmi_class = subjects.apply(\n",
    "        lambda row: classify_bmi_sds(\n",
    "            row.bmi_sds,\n",
    "            row.Sex\n",
    "        ),\n",
    "        axis=1\n",
    "    )\n",
    "\n",
    "    subjects.insert(13,'bmi_class',bmi_class)"
   ]
  },
  {
   "cell_type": "markdown",
   "metadata": {},
   "source": [
    "## Characteristics of the study participants\n",
    "**Table 1** The study participant characteristics. Values expressed as medians (range) if not otherwise informed.  ¹Age of the child at the time of the blood sampling. ²BMI Standard Deviation (SD) Score is calculated from the Finnish population growth data (113).  ³Classification of overweight/obese and underweight based on the Finnish BMI-for-age percentile curves (113)."
   ]
  },
  {
   "cell_type": "code",
   "execution_count": null,
   "metadata": {},
   "outputs": [],
   "source": [
    "df = subjects.groupby('Sex').count()[['ID']]\n",
    "df.to_csv('out/table1-sex.csv')\n",
    "df"
   ]
  },
  {
   "cell_type": "code",
   "execution_count": null,
   "metadata": {},
   "outputs": [],
   "source": [
    "df = subjects[['Bage','bmi_sds',tc]].describe()\n",
    "df.to_csv('out/table1-age-bmi-tc.csv')\n",
    "df"
   ]
  },
  {
   "cell_type": "code",
   "execution_count": null,
   "metadata": {},
   "outputs": [],
   "source": [
    "df = subjects.groupby('bmi_class').count()[['ID']]\n",
    "df.to_csv('out/table1-bmi_class.csv')\n",
    "df"
   ]
  },
  {
   "cell_type": "markdown",
   "metadata": {},
   "source": [
    "**Table 2** The highest level of maternal education, expressed as either ongoing or completed studies. +lisää prosentit?"
   ]
  },
  {
   "cell_type": "code",
   "execution_count": null,
   "metadata": {},
   "outputs": [],
   "source": [
    "def mothers_education(row):\n",
    "    if row.v37=='1': return 0\n",
    "    if row.v38=='1': return 1\n",
    "    if row.v39=='1': return 2\n",
    "    if row.v40=='1': return 3\n",
    "    if row.v41=='1': return 4\n",
    "    if row.v42=='1': return 5\n",
    "    if row.v43=='1': return 6\n",
    "    return None\n",
    "\n",
    "def subject_mothers_education():\n",
    "    df = pd.read_spss(\n",
    "        data_questionnaire,\n",
    "        usecols=['ID', 'v37', 'v38', 'v39', 'v40', 'v41', 'v42', 'v43']\n",
    "    ).set_index('ID')\n",
    "    for i,row in df.iterrows():\n",
    "        df.at[i,'education_mother'] = mothers_education(row)\n",
    "    return df[['education_mother']]\n",
    "\n",
    "if not 'education_mother' in subjects:\n",
    "    subjects = subjects.merge(\n",
    "        subject_mothers_education(), \n",
    "        on='ID', \n",
    "        how='left'\n",
    "    )\n",
    "    \n",
    "df = subjects.groupby('education_mother',dropna=False).count()[['ID']]\n",
    "df.columns = ['num']\n",
    "df['percent'] = df.num / df.num.sum() * 100.0\n",
    "df = df.round(2)\n",
    "df.to_csv('out/table2-education_mother.csv')\n",
    "df"
   ]
  },
  {
   "cell_type": "markdown",
   "metadata": {},
   "source": [
    "**Table 5.** The participants’ dietary intakes."
   ]
  },
  {
   "cell_type": "code",
   "execution_count": null,
   "metadata": {},
   "outputs": [],
   "source": [
    "subjects['ENER_kcal_per_d'] = subjects.ENERJ_per_d / 4.184\n",
    "\n",
    "intake_e_pros = [\n",
    "    'FAT_e_pros', \n",
    "    'FASAT_e_pros',\n",
    "    'FAMS_e_pros',\n",
    "    'FAPU_e_pros',\n",
    "    'CHOL_per_MJ',\n",
    "    'PROT_e_pros',\n",
    "    'CHO_e_pros',\n",
    "    'SUCS_e_pros',\n",
    "    'FIBC_per_MJ',\n",
    "    'SALT_per_MJ',\n",
    "]\n",
    "intake_per_d = [\n",
    "    'ENERJ_per_d',\n",
    "    'ENER_kcal_per_d',\n",
    "    'FAT_e_pros', \n",
    "    'FASAT_e_pros',\n",
    "    'FAMS_e_pros',\n",
    "    'FAPU_e_pros',\n",
    "    'CHOL_per_MJ',\n",
    "    'PROT_e_pros',\n",
    "    'CHO_e_pros',\n",
    "    'SUCS_e_pros',\n",
    "    'FIBC_per_MJ',\n",
    "    'SALT_per_MJ',    \n",
    "]\n",
    "df = subjects[intake_e_pros+intake_per_d].describe().round(2)\n",
    "df.to_csv('out/table3-intakes.csv')\n",
    "df"
   ]
  },
  {
   "cell_type": "markdown",
   "metadata": {},
   "source": [
    "## Food item scoring"
   ]
  },
  {
   "cell_type": "code",
   "execution_count": null,
   "metadata": {},
   "outputs": [],
   "source": [
    "food_records = pd.read_csv(\n",
    "    data_food_record, \n",
    "    sep='\\t', \n",
    "    encoding='iso-8859-1')\n",
    "\n",
    "food_animal_percent = pd.read_csv(\n",
    "    data_food_animal_proportion, \n",
    "    index_col='code'\n",
    ").drop(columns=['link'])\n",
    "\n",
    "food_records = food_records.merge(\n",
    "    food_animal_percent, \n",
    "    left_on='Code', \n",
    "    right_on='code', \n",
    "    how='left'\n",
    ")"
   ]
  },
  {
   "cell_type": "code",
   "execution_count": null,
   "metadata": {},
   "outputs": [],
   "source": [
    "# sanity check which food items with nonzero animal content appear for vegans\n",
    "\n",
    "df = food_records.merge(\n",
    "    subjects[['ID','Group4']], \n",
    "    on='ID', \n",
    "    how='left')\n",
    "df = df[\n",
    "    (df.animal_proportion > 0) \n",
    "    & (df.Group4 == 'Vegan')\n",
    "]\n",
    "df.groupby(['name','MaName']).count()['Group4']"
   ]
  },
  {
   "cell_type": "markdown",
   "metadata": {},
   "source": [
    "**Table 4.** Number of food items within the deciles according to the proportion of animal origin content."
   ]
  },
  {
   "cell_type": "code",
   "execution_count": null,
   "metadata": {},
   "outputs": [],
   "source": [
    "df = food_animal_percent.groupby('animal_decile').count()\n",
    "df.to_csv('out/table4-food_items_per_animal_decile.csv')\n",
    "df"
   ]
  },
  {
   "cell_type": "markdown",
   "metadata": {},
   "source": [
    "## ASE intakes among the dietary categories\n",
    "**Figure 2** Histogram showing the distribution of ASE proportions by the diet classification (grouping based on the food records and FFQs). *Vegetarian group included lactovegetarians, lacto-ovo-vegetarians and pescovegetarians."
   ]
  },
  {
   "cell_type": "code",
   "execution_count": null,
   "metadata": {},
   "outputs": [],
   "source": [
    "# calculate ASE proportion\n",
    "r_animal = 'r_animal_source_energy'\n",
    "r_animal_label = 'Animal source energy proportion'\n",
    "\n",
    "e = food_records[['ID','ENERJ','animal_proportion']]\n",
    "e = e.assign(ENERJ_animal=(e.ENERJ * e.animal_proportion)).drop(columns=['animal_proportion'])\n",
    "\n",
    "#energy per subject\n",
    "eps = e.groupby(['ID']).sum()\n",
    "eps = eps.assign(r_animal_source_energy=(eps.ENERJ_animal / eps.ENERJ))\n",
    "\n",
    "if not r_animal in subjects:\n",
    "    subjects = subjects.merge(eps, on='ID')"
   ]
  },
  {
   "cell_type": "code",
   "execution_count": null,
   "metadata": {},
   "outputs": [],
   "source": [
    "# classify diets\n",
    "g6_map = {\n",
    "    'Pesco-vegetarian': 'Vegetarian',\n",
    "    'Vegan': 'Vegan',\n",
    "    'Control': 'Omnivore',\n",
    "    'Control (vegan in daycare)': 'Omnivore',\n",
    "    'Vegetarian': 'Vegetarian'\n",
    "}\n",
    "diet_class = 'diet classification'\n",
    "diet_classes = ['Vegan','Vegetarian','Omnivore']\n",
    "\n",
    "if not diet_class in subjects:\n",
    "    subjects.insert(6,diet_class,subjects.Group4.map(g6_map))"
   ]
  },
  {
   "cell_type": "code",
   "execution_count": null,
   "metadata": {},
   "outputs": [],
   "source": [
    "plt.close()\n",
    "fg = sns.displot(\n",
    "    subjects,\n",
    "    x=r_animal,\n",
    "    binwidth=0.05,\n",
    "    hue=diet_class,\n",
    "    hue_order=diet_classes,\n",
    "    multiple='stack',\n",
    "    height=scale)\n",
    "fg.axes[0,0].set_xlabel(r_animal_label)\n",
    "plt.savefig('out/figure2-ASE-histogram.png')"
   ]
  },
  {
   "cell_type": "markdown",
   "metadata": {},
   "source": [
    "## Animal ratio and dietary intakes\n",
    "Table 4\n",
    "Pearson correlation coefficients for correlations between ASE proportion and dietary intakes. *Significance of the p-value corrected for multiple analyses using the Benjamini-Hochberg procedure, FDR 0.05."
   ]
  },
  {
   "cell_type": "code",
   "execution_count": null,
   "metadata": {},
   "outputs": [],
   "source": [
    "\n",
    "def correlation_values(xs,ys):\n",
    "    table = []\n",
    "    for x in xs:\n",
    "        for y in ys:\n",
    "            df = subjects[[x,y]].dropna()\n",
    "            pr, pp = pearsonr(df[x],df[y])\n",
    "            table.append([x,y,pr,pp])\n",
    "\n",
    "    df = pd.DataFrame(table,columns=['x','y','pearson_r','pearson_p'])\n",
    "    df['fdr_bh_0_05'] = multipletests(df['pearson_p'], alpha=0.05, method='fdr_bh')[0]\n",
    "    df = df.sort_values(by='pearson_p')\n",
    "    df = df.round(3)\n",
    "    return df"
   ]
  },
  {
   "cell_type": "code",
   "execution_count": null,
   "metadata": {},
   "outputs": [],
   "source": [
    "df = correlation_values([r_animal],intake_e_pros)\n",
    "df.to_csv('out/table5-correlations-ASE-intake_e_pros.csv')\n",
    "df"
   ]
  },
  {
   "cell_type": "code",
   "execution_count": null,
   "metadata": {},
   "outputs": [],
   "source": [
    "df = correlation_values([r_animal],intake_per_d)\n",
    "df.to_csv('out/table5-correlations-ASE-intake_per_d.csv')\n",
    "df"
   ]
  },
  {
   "cell_type": "code",
   "execution_count": null,
   "metadata": {},
   "outputs": [],
   "source": [
    "from string import ascii_lowercase\n",
    "\n",
    "def regplot_r_animal(ax,y,y_label):\n",
    "    ax.set_xlim(-0.01, subjects.r_animal_source_energy.max()+0.01)\n",
    "    sns.regplot(ax=ax, x=r_animal, y=y, scatter=False, data=subjects)\n",
    "    sns.scatterplot(\n",
    "        ax=ax, \n",
    "        x=r_animal, \n",
    "        y=y, \n",
    "        hue=diet_class, \n",
    "        hue_order=diet_classes, \n",
    "        data=subjects, \n",
    "        s=30*scale,\n",
    "        legend=False\n",
    "    )\n",
    "    ax.set_xlabel(r_animal_label)\n",
    "    ax.set_ylabel(y_label)\n",
    "\n",
    "\n",
    "def fig_of_regplots(ys,cols=2):\n",
    "\n",
    "    plt.close()\n",
    "    sns.set_theme(style='white',font_scale=2)\n",
    "    \n",
    "    rows = int(len(ys)/cols)+(len(ys)%cols > 0)\n",
    "    h = rows*scale\n",
    "    if rows > 1: h+=2\n",
    "    w = cols*scale+2\n",
    "    \n",
    "\n",
    "\n",
    "    fig, axs = plt.subplots(rows,cols,figsize=(w,h))\n",
    "        \n",
    "    if rows > 1:\n",
    "        axs_flat = [ax for row in axs for ax in row]\n",
    "    else:\n",
    "        axs_flat = axs\n",
    "\n",
    "    l = list(zip(ys.keys(),ys.values(),axs_flat))\n",
    "    i = 0\n",
    "    for t in l:\n",
    "        regplot_r_animal(t[2],t[0],t[1])\n",
    "        t[2].set_title(\n",
    "            ascii_lowercase[i]+')',\n",
    "            loc='left',\n",
    "            fontdict={\n",
    "#                'fontweight': 'bold',\n",
    "                'verticalalignment': 'bottom'\n",
    "            }\n",
    "        )\n",
    "        i+=1\n",
    "\n",
    "    for ax in axs_flat[len(ys):]:\n",
    "        fig.delaxes(ax)\n",
    "        \n",
    "    return fig, axs"
   ]
  },
  {
   "cell_type": "markdown",
   "metadata": {},
   "source": [
    "**Figures 3 a), b) and c)**\n",
    "Scatter plots showing the correlations between animal source energy and dietary intakes of a) cholesterol (mg per MJ/d), b) saturated fatty acids (E%) and c) polyunsaturated fatty acids (E%). In Figure 3 b) the participants achieving a ASE proportion of 0 (n=7) are piled up on top of each other in the left corner (0,0). Pearson correlation coefficients are displayed, significance of p-values expressed after correction of multiple analyses with the Benjamini-Hochberg procedure. The shaded light blue area represents the 95% confidence interval for the regression. In Figure 3a), the dashed red line represents the official dietary recommendation for children, which for SAFA intake is <10E%. Correspondingly, in Figure 3b) the dashed red line represents the lower reference intake for PUFA in the official dietary recommendations (>5 E%)."
   ]
  },
  {
   "cell_type": "code",
   "execution_count": null,
   "metadata": {},
   "outputs": [],
   "source": [
    "ys = {\n",
    "    'FASAT_e_pros': 'Saturated Fat (E%)',\n",
    "    'FAPU_e_pros': 'Polyunsaturated Fat (E%)',\n",
    "    'CHOL_per_MJ': 'Cholesterol (per MJ)',\n",
    "}\n",
    "\n",
    "fig, axs = fig_of_regplots(ys)\n",
    "\n",
    "axs[0][0].axhline(10,ls='--',color='r') #FASAT high\n",
    "\n",
    "axs[0][1].axhline(5,ls='--',color='r') # FAPU low\n",
    "axs[0][1].axhline(10,ls='--',color='r') # FAPU high\n",
    "\n",
    "\n",
    "plt.savefig('out/figure3-scatter-ASE-SAFA-PUFA-TC.png')\n",
    "\n",
    "plt.show()"
   ]
  },
  {
   "cell_type": "markdown",
   "metadata": {},
   "source": [
    "**Figure 4a) and b).**\n",
    "Scatter plots of the correlations between animal source energy and dietary intakes of a) fibre (g per MJ) and b) protein (E%). In Figure 4a), the official dietary recommendation for fibre intake for over 2-year old children (2–3 g/MJ) is indicated with dashed red lines. Similarly, in Figure 4b) the dietary recommendation for protein intake (10–20 E%) in children is displayed with the red dashed lines. In addition, Figures present Pearson correlation coefficients and significance after correction for multiple analyses with Benjamini-Hochberg procedure. The shaded area represents the 95% confidence interval for the regression. "
   ]
  },
  {
   "cell_type": "code",
   "execution_count": null,
   "metadata": {},
   "outputs": [],
   "source": [
    "ys = {\n",
    "    'FIBC_per_MJ': 'Fiber (per MJ)',\n",
    "    'PROT_e_pros': 'Protein (E%)',\n",
    "}\n",
    "\n",
    "fig, axs = fig_of_regplots(ys)\n",
    "\n",
    "axs[0].axhline(2,ls='--',color='r') # FIBC low\n",
    "axs[0].axhline(3,ls='--',color='r') # FIBC high\n",
    "\n",
    "axs[1].axhline(10,ls='--',color='r') #prot low\n",
    "axs[1].axhline(20,ls='--',color='r') #prot high\n",
    "\n",
    "plt.savefig('out/figure4-scatter-ASE-FIBC-PROT.png')\n",
    "\n",
    "plt.show()"
   ]
  },
  {
   "cell_type": "markdown",
   "metadata": {},
   "source": [
    "**Figure 5.** Stripplot of LDL-C concentrations in dietary groups"
   ]
  },
  {
   "cell_type": "code",
   "execution_count": null,
   "metadata": {},
   "outputs": [],
   "source": [
    "plt.close()\n",
    "fig, ax = plt.subplots(figsize=(scale,scale))\n",
    "ax = sns.stripplot(\n",
    "    x=diet_class,\n",
    "    order=diet_classes,\n",
    "    y=ldl,\n",
    "    data=subjects,\n",
    "    s=15,\n",
    "    linewidth=1,\n",
    "    edgecolor=\"white\"\n",
    ")\n",
    "ax.set_xlabel('Diet classification')\n",
    "ax.set_ylabel('LDL-C concentration (mmol/l)')\n",
    "\n",
    "plt.savefig('out/figure5-stripplot-diet-LDL.png')"
   ]
  },
  {
   "cell_type": "markdown",
   "metadata": {},
   "source": [
    "**Figure 6.**\n",
    "The scatter plots of ASE proportion and plasma concentrations of A) total cholesterol, B) LDL-cholesterol, C) HDL-cholesterol D)Triglyceride. The shaded light blue area represents the 95% confidence interval for the regression. In Figure 5 a), some participants achieving a ASE proportion of 0 are on top of each other in data points (0,3 and 0,2.7 tms?) "
   ]
  },
  {
   "cell_type": "code",
   "execution_count": null,
   "metadata": {},
   "outputs": [],
   "source": [
    "serum_lipid_labels=['TC concentration','LDL-C concentration','HDL-C concentration','Triglyceride concetration']\n",
    "\n",
    "fig, axs = fig_of_regplots(dict(zip(serum_lipids,serum_lipid_labels)))\n",
    "\n",
    "axs[0][1].axhline(3.36,ls='--',color='r') # limit for children\n",
    "\n",
    "plt.savefig('out/figure6-scatter-ASE-serum_lipids.png')\n",
    "\n",
    "plt.show()"
   ]
  },
  {
   "cell_type": "markdown",
   "metadata": {},
   "source": [
    "## Multiple regression model to explain plasma LDL-C concentration\n"
   ]
  },
  {
   "cell_type": "code",
   "execution_count": null,
   "metadata": {},
   "outputs": [],
   "source": [
    "def ols_result(xs,ys):\n",
    "    df = subjects[xs+ys].dropna()\n",
    "    \n",
    "    X = df[xs]\n",
    "    Y = df[ys]\n",
    "    \n",
    "    X = sm.add_constant(X)\n",
    "    \n",
    "    return sm.OLS(Y, X).fit()"
   ]
  },
  {
   "cell_type": "markdown",
   "metadata": {},
   "source": [
    "## Animal source energy proportion as a predictor of plasma LDL-cholesterol\n",
    "Table 5\n",
    "Linear regression model for animal source energy as a predictor of LDL-cholesterol concentrations. The unadjusted model."
   ]
  },
  {
   "cell_type": "code",
   "execution_count": null,
   "metadata": {},
   "outputs": [],
   "source": [
    "summary = ols_result([r_animal],[ldl]).summary()\n",
    "\n",
    "file = open('out/table5-OLS-ASE-LDL.html', 'w')\n",
    "file.write(summary.as_html())\n",
    "file.close()\n",
    "summary"
   ]
  },
  {
   "cell_type": "markdown",
   "metadata": {},
   "source": [
    "**Table 6.** The multiple linear regression model to predict plasma LDL-cholesterol concentrations with animal source energy, child’s sex and maternal education. "
   ]
  },
  {
   "cell_type": "code",
   "execution_count": null,
   "metadata": {},
   "outputs": [],
   "source": [
    "subjects.loc[subjects.Sex == 'N', 'sex_dummy'] = 0\n",
    "subjects.loc[subjects.Sex == 'M', 'sex_dummy'] = 1\n",
    "\n",
    "summary = ols_result([r_animal,'sex_dummy','education_mother'],[ldl]).summary()\n",
    "\n",
    "file = open('out/table6-OLS-ASE_sex_education-LDL.html', 'w')\n",
    "file.write(summary.as_html())\n",
    "file.close()\n",
    "summary"
   ]
  },
  {
   "cell_type": "markdown",
   "metadata": {},
   "source": [
    "## Biomarkers of cholesterol metabolism and bile acid synthesis\n",
    "\n",
    "**Table 7.** The Pearson correlation coefficients between animal source energy and plasma cholesterol absorption and synthesis biomarkers and the plasma bile acid synthesis biomarker (7-OH-4-cholesten-3-one). The cholesterol synthesis and absorption markers expressed as their ratios to plasma TC concentrations. "
   ]
  },
  {
   "cell_type": "code",
   "execution_count": null,
   "metadata": {},
   "outputs": [],
   "source": [
    "chol_absorption_markers = [\n",
    "    'Cholestanol',\n",
    "    'Campesterol',\n",
    "    'Sitosterol',\n",
    "    'Avenasterol',\n",
    "]\n",
    "chol_synthesis_markers = [\n",
    "    'Cholestenol',\n",
    "    'Desmosterol',\n",
    "    'Lathosterol',\n",
    "    'Squalene',\n",
    "]\n",
    "subjects['r_campesterol_to_cholestanol'] = subjects.Campesterol / subjects.Cholestanol\n",
    "\n",
    "df = correlation_values(\n",
    "    [r_animal],\n",
    "    chol_absorption_markers+chol_synthesis_markers+['7-OH-4-cholesten-3-one','r_campesterol_to_cholestanol']+serum_lipids)\n",
    "df.to_csv('out/table7-correlations-ASE-cholesterol_markers.csv')\n",
    "df"
   ]
  },
  {
   "cell_type": "markdown",
   "metadata": {},
   "source": [
    "**Figure 7**. Correlations between ASE proportion and the serum biomarkers of cholesterol absorption, a) cholestanol, b) campesterol, c) sitosterol and d) avenasterol, expressed as their ratios to total cholesterol (100 x μg/mg)."
   ]
  },
  {
   "cell_type": "code",
   "execution_count": null,
   "metadata": {},
   "outputs": [],
   "source": [
    "ys = dict(zip(chol_absorption_markers,chol_absorption_markers))\n",
    "\n",
    "fig, axs = fig_of_regplots(ys)\n",
    "\n",
    "plt.savefig('out/figure7-scatter-ASE-chol_absorption_markers.png')\n",
    "\n",
    "plt.show()"
   ]
  },
  {
   "cell_type": "markdown",
   "metadata": {},
   "source": [
    "**Figure 8.** Correlations between ASE proportion and the serum biomarkers of cholesterol synthesis, a) cholestenol, b) desmosterol, c) lathosterol and d) squalene, expressed as their ratios to total cholesterol (100 x μg/mg)."
   ]
  },
  {
   "cell_type": "code",
   "execution_count": null,
   "metadata": {},
   "outputs": [],
   "source": [
    "ys = dict(zip(chol_synthesis_markers,chol_synthesis_markers))\n",
    "\n",
    "fig, axs = fig_of_regplots(ys)\n",
    "\n",
    "plt.savefig('out/figure8-scatter-ASE-chol_synthesis_markers.png')\n",
    "\n",
    "plt.show()"
   ]
  },
  {
   "cell_type": "markdown",
   "metadata": {},
   "source": [
    "**Figure 9.** Correlation of ASE proportion and serum concentration of bile acid synthesis marker 7α-OH-4-cholesten-3-one (μmol/l)."
   ]
  },
  {
   "cell_type": "code",
   "execution_count": null,
   "metadata": {},
   "outputs": [],
   "source": [
    "plt.close()\n",
    "\n",
    "fig, ax = plt.subplots(figsize=(scale,scale))\n",
    "\n",
    "regplot_r_animal(ax,'7-OH-4-cholesten-3-one','7-OH-4-cholesten-3-one')\n",
    "\n",
    "plt.savefig('out/figure9-scatter-ASE-bile_acid_synthesis_marker.png')\n",
    "\n",
    "plt.show()"
   ]
  },
  {
   "cell_type": "markdown",
   "metadata": {},
   "source": [
    "## Bile acid composition"
   ]
  },
  {
   "cell_type": "code",
   "execution_count": null,
   "metadata": {},
   "outputs": [],
   "source": [
    "glycine_conjugated_bile_acids = ['GCDCA','GCA','GLCA','GUDCA','GDCA']\n",
    "taurine_conjugated_bile_acids = ['TUDCA','TCA','TDCA','TLCA','TCDCA']\n",
    "unconjugated_bile_acids = ['UDCA','HDCA','CDCA','DCA','LCA','CA']\n",
    "all_bile_acids = unconjugated_bile_acids + glycine_conjugated_bile_acids + taurine_conjugated_bile_acids\n",
    "\n",
    "subjects = subjects.assign(\n",
    "    total_bile_acids=subjects[all_bile_acids].sum(axis=1))\n",
    "subjects = subjects.assign(\n",
    "    total_glycine_conjugated_bile_acids = subjects[glycine_conjugated_bile_acids].sum(axis=1))\n",
    "subjects = subjects.assign(\n",
    "    total_taurine_conjugated_bile_acids = subjects[taurine_conjugated_bile_acids].sum(axis=1))\n",
    "subjects = subjects.assign(\n",
    "    conjugated_bile_acid_ratio = (\n",
    "        subjects.total_taurine_conjugated_bile_acids / subjects.total_glycine_conjugated_bile_acids))\n",
    "\n",
    "bile_acid_group_totals = [\n",
    "    'total_bile_acids',\n",
    "    'total_glycine_conjugated_bile_acids', \n",
    "    'total_taurine_conjugated_bile_acids',\n",
    "    'conjugated_bile_acid_ratio'\n",
    "]\n"
   ]
  },
  {
   "cell_type": "markdown",
   "metadata": {},
   "source": [
    "**Table 8.** Pearson correlation coefficients between animal source energy intake and the plasma bile acid variables. Significance given after correcting for multiple analysis with the Benjamini-Hochberg procedure, FDR 0.05."
   ]
  },
  {
   "cell_type": "code",
   "execution_count": null,
   "metadata": {},
   "outputs": [],
   "source": [
    "df = correlation_values(\n",
    "    [r_animal],\n",
    "    all_bile_acids+bile_acid_group_totals\n",
    ")\n",
    "df.to_csv('out/table8-correlations-ASE-bile_acids.csv')\n",
    "df"
   ]
  },
  {
   "cell_type": "markdown",
   "metadata": {},
   "source": [
    "# Supplements"
   ]
  }
 ],
 "metadata": {
  "kernelspec": {
   "display_name": "Python 3",
   "language": "python",
   "name": "python3"
  },
  "language_info": {
   "codemirror_mode": {
    "name": "ipython",
    "version": 3
   },
   "file_extension": ".py",
   "mimetype": "text/x-python",
   "name": "python",
   "nbconvert_exporter": "python",
   "pygments_lexer": "ipython3",
   "version": "3.7.9"
  }
 },
 "nbformat": 4,
 "nbformat_minor": 4
}
